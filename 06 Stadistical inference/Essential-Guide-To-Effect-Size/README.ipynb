{
  "cells": [
    {
      "cell_type": "markdown",
      "metadata": {},
      "source": [
        "# Essential Guide To Effect Size\n",
        "\n",
        "## Introduction\n",
        "\n",
        "The main focus of this book is to answer the next questions:\n",
        "\n",
        "| **Question**                                                                          | **Solution**                                                                                                                                                                                                                                                              |\n",
        "|:-----------------------------------|:-----------------------------------|\n",
        "| 1\\. How do I interpret the practical or everyday significance of my research results? | *You need to understand how to interpret the *effect sizes* rather than concluding based on p-values*                                                                                                                                                                     |\n",
        "| 2\\. Does my study have sufficient power to find what I am seeking?                    | *Insufficient power means an increased risk of missing real effects (error type II) which increase the risk of publishing false positives (error type I)*                                                                                                                 |\n",
        "| 3\\. How do I draw conclusions from past studies reporting disparate results?          | *You need to perform a *meta-analysis* based on the *effect size estimates* that have been reported in previous studies to provide a precise conclusion regarding the *direction and magnitude of an effect* even when the underlying data come from dissimilar studies.* |\n",
        "\n",
        "## Introduction to effect sizes\n",
        "\n",
        "-   We get a **statistically significant result** when we have low\n",
        "    probability of getting the current result by change.\n",
        "\n",
        "-   We get a **practically significant result** when it makes sense in\n",
        "    the real world.\n",
        "\n",
        "<br>\n",
        "\n",
        "It’s important to understand that:\n",
        "\n",
        "1.  $\\text{nonsignificant t test} \\neq (\\mu_1 - \\mu_2 = 0)$\n",
        "\n",
        "2.  What the *t* test tells us is that **we cannot rule out chance as a\n",
        "    possible explanation for the difference**."
      ],
      "id": "cc5c4fbb-48c5-49a4-83c3-36bce62973e5"
    }
  ],
  "nbformat": 4,
  "nbformat_minor": 5,
  "metadata": {
    "kernelspec": {
      "display_name": "Python 3",
      "language": "python",
      "name": "python3"
    }
  }
}